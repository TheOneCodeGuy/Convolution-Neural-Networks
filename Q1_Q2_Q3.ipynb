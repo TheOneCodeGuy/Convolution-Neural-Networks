{
  "nbformat": 4,
  "nbformat_minor": 0,
  "metadata": {
    "accelerator": "GPU",
    "colab": {
      "name": "Q1_Q2_Q3.ipynb",
      "provenance": [],
      "collapsed_sections": []
    },
    "kernelspec": {
      "display_name": "Python 3",
      "language": "python",
      "name": "python3"
    }
  },
  "cells": [
    {
      "cell_type": "markdown",
      "metadata": {
        "colab_type": "text",
        "id": "7_qTq010ijWD"
      },
      "source": [
        "### Run this cell only once (the first ever time you run) to process data"
      ]
    },
    {
      "cell_type": "code",
      "metadata": {
        "colab_type": "code",
        "id": "v8PCDpQkAHwN",
        "colab": {}
      },
      "source": [
        "# # from google.colab import drive\n",
        "# # drive.mount('/content/drive')\n",
        "\n",
        "# # For extracting\n",
        "# !pip install pyunpack\n",
        "# !pip install patool\n",
        "\n",
        "# from pyunpack import Archive\n",
        "# Archive('CUB_200_2011.tgz').extractall('Assignment3_Data')"
      ],
      "execution_count": null,
      "outputs": []
    },
    {
      "cell_type": "code",
      "metadata": {
        "colab_type": "code",
        "id": "fjjzGKEwFmsN",
        "colab": {}
      },
      "source": [
        "import os\n",
        "os.environ['CUDA_LAUNCH_BLOCKING'] = \"1\""
      ],
      "execution_count": 25,
      "outputs": []
    },
    {
      "cell_type": "code",
      "metadata": {
        "colab_type": "code",
        "id": "0Z5GNnFsDPna",
        "colab": {
          "base_uri": "https://localhost:8080/",
          "height": 34
        },
        "outputId": "369b647f-0c9f-4a7a-82fa-6229d78d7967"
      },
      "source": [
        "import torch\n",
        "import torchvision\n",
        "import torchvision.transforms as transforms\n",
        "import tarfile\n",
        "import pandas as pd\n",
        "import os\n",
        "import re\n",
        "from torch.utils.data import Dataset, DataLoader, ConcatDataset, random_split\n",
        "import torch.nn as nn\n",
        "import torch.nn.functional as F\n",
        "import numpy as np\n",
        "import matplotlib.pyplot as plt\n",
        "import torch.optim as optim\n",
        "from sklearn.metrics import confusion_matrix\n",
        "from sklearn.decomposition import PCA\n",
        "from io import StringIO\n",
        "from PIL import Image\n",
        "import re\n",
        "from sklearn.metrics import accuracy_score, f1_score, precision_score\n",
        "import pickle\n",
        "\n",
        "from google.colab import drive\n",
        "drive.mount('/content/drive')"
      ],
      "execution_count": 26,
      "outputs": [
        {
          "output_type": "stream",
          "text": [
            "Drive already mounted at /content/drive; to attempt to forcibly remount, call drive.mount(\"/content/drive\", force_remount=True).\n"
          ],
          "name": "stdout"
        }
      ]
    },
    {
      "cell_type": "code",
      "metadata": {
        "colab_type": "code",
        "id": "J6JD3ycyPuYi",
        "colab": {
          "base_uri": "https://localhost:8080/",
          "height": 34
        },
        "outputId": "3c900ec4-a01b-49f3-f8be-4c23514b05f6"
      },
      "source": [
        "device = torch.device(\"cuda:0\" if torch.cuda.is_available() else \"cpu\")\n",
        "print(device)"
      ],
      "execution_count": null,
      "outputs": [
        {
          "output_type": "stream",
          "text": [
            "cuda:0\n"
          ],
          "name": "stdout"
        }
      ]
    },
    {
      "cell_type": "code",
      "metadata": {
        "colab_type": "code",
        "id": "DP8iACDGDSWD",
        "colab": {}
      },
      "source": [
        "class DatasetClass(Dataset):\n",
        "    \n",
        "    def __init__(self, directory, img_size):\n",
        "        \n",
        "        self.directory = directory\n",
        "        self.classes = ['026.Bronzed_Cowbird',\t'084.Red_legged_Kittiwake',\t'131.Vesper_Sparrow',\t'085.Horned_Lark',\t'015.Lazuli_Bunting',\t'041.Scissor_tailed_Flycatcher',\t'114.Black_throated_Sparrow']\n",
        "        print('Number of Classes =', len(self.classes))\n",
        "        self.files = []\n",
        "        for class_name in self.classes:\n",
        "            images = os.listdir(directory + '/' + class_name)\n",
        "            images = [class_name + '/' + image for image in images]\n",
        "            self.files.extend(images)\n",
        "        \n",
        "        self.img_size = img_size\n",
        "        self.size = len(self.files)\n",
        "        \n",
        "    def __getitem__(self, idx):     \n",
        "        \n",
        "        image_name = self.files[idx]\n",
        "        y = self.classes.index(re.split('/', image_name)[0])\n",
        "        img = Image.open(self.directory + '/' + image_name).convert(mode='RGB').resize(self.img_size)\n",
        "        \n",
        "        trans = transforms.ToTensor()\n",
        "        # return trans(img), torch.Tensor(y, dtype=torch.long)\n",
        "        \n",
        "        return trans(img)*255, y        # Multiplying by pixel value\n",
        "      \n",
        "    def __len__(self):\n",
        "        \n",
        "        return self.size"
      ],
      "execution_count": null,
      "outputs": []
    },
    {
      "cell_type": "code",
      "metadata": {
        "colab_type": "code",
        "id": "TKVGwDDOKAsM",
        "colab": {}
      },
      "source": [
        "def train_test_loader(directory, img_size, train_fraction=0.7, cv_fraction=0.2, num_workers=0, batch_size=32):\n",
        "\n",
        "    dataset = DatasetClass(directory, img_size)\n",
        "    \n",
        "    N = dataset.size\n",
        "    train_size = int(N*train_fraction)\n",
        "    cv_size = int(N*cv_fraction)\n",
        "    test_size = N - train_size - cv_size\n",
        "\n",
        "    train_data, cv_data, test_data = torch.utils.data.random_split(dataset, [train_size, cv_size, test_size])\n",
        "\n",
        "    trainloader = DataLoader(train_data, batch_size=batch_size, shuffle=True, num_workers=num_workers)\n",
        "    cvloader = DataLoader(cv_data, batch_size=batch_size, shuffle=True, num_workers=num_workers)\n",
        "    testloader = DataLoader(test_data, batch_size=batch_size, shuffle=True, num_workers=num_workers)\n",
        "    \n",
        "    return trainloader, cvloader, testloader, train_size, cv_size, test_size"
      ],
      "execution_count": null,
      "outputs": []
    },
    {
      "cell_type": "code",
      "metadata": {
        "colab_type": "code",
        "id": "fT66UkOpUDtv",
        "colab": {
          "base_uri": "https://localhost:8080/",
          "height": 34
        },
        "outputId": "d399c1c9-7f26-4419-c251-a168f5c9447b"
      },
      "source": [
        "# trainloader, cvloader, testloader, train_size, cv_size, test_size = train_test_loader('D:/_SEM8/DL/Assignment 3/Assignment3_Data/CUB_200_2011/images/', (224, 224))\n",
        "trainloader, cvloader, testloader, train_size, cv_size, test_size = train_test_loader('/content/drive/My Drive/Assignment3_Data/CUB_200_2011/images', (224, 224), batch_size=32)\n",
        "\n",
        "# if __name__ == \"__main__\":\n",
        "  # trainloader, cvloader, testloader, train_size, cv_size, test_size = train_test_loader('Assignment3_Data/CUB_200_2011/images/', (224, 224))"
      ],
      "execution_count": 43,
      "outputs": [
        {
          "output_type": "stream",
          "text": [
            "Number of Classes = 7\n"
          ],
          "name": "stdout"
        }
      ]
    },
    {
      "cell_type": "code",
      "metadata": {
        "colab_type": "code",
        "id": "81_AjruYX-U6",
        "colab": {
          "base_uri": "https://localhost:8080/",
          "height": 34
        },
        "outputId": "42d71bd7-4b9d-413c-d425-af567da00b81"
      },
      "source": [
        "RGB_mean = torch.zeros(3)\n",
        "i = 0\n",
        "for X, y in trainloader:\n",
        "    i += 1\n",
        "    RGB_mean += (X.sum(0).sum(1).sum(1)/(X.shape[2]*X.shape[2]))/train_size\n",
        "    print(i, '/', len(trainloader), end=', ')"
      ],
      "execution_count": null,
      "outputs": [
        {
          "output_type": "stream",
          "text": [
            "1 / 18, 2 / 18, 3 / 18, 4 / 18, 5 / 18, 6 / 18, 7 / 18, 8 / 18, 9 / 18, 10 / 18, 11 / 18, 12 / 18, 13 / 18, 14 / 18, 15 / 18, 16 / 18, 17 / 18, 18 / 18, "
          ],
          "name": "stdout"
        }
      ]
    },
    {
      "cell_type": "markdown",
      "metadata": {
        "colab_type": "text",
        "id": "Vc8N6oxxiwx0"
      },
      "source": [
        "### Question 1. a\n"
      ]
    },
    {
      "cell_type": "code",
      "metadata": {
        "colab_type": "code",
        "id": "xzGC9uLa9xum",
        "colab": {}
      },
      "source": [
        "class VGGNet(nn.Module):\n",
        "    \n",
        "    def __init__(self, RGB_mean, num_classes):\n",
        "        super(VGGNet, self).__init__()\n",
        "        \n",
        "        self.RGB_mean = RGB_mean.to(device)\n",
        "        self.num_classes = num_classes\n",
        "\n",
        "        self.c11 = nn.Conv2d(3, 64, 3, stride=1, padding=1)\n",
        "        self.c12 = nn.Conv2d(64, 64, 3, stride=1, padding=1)\n",
        "        self.p1 = nn.MaxPool2d(2, stride=2)\n",
        "\n",
        "        self.c21 = nn.Conv2d(64, 128, 3, stride=1, padding=1)\n",
        "        self.c22 = nn.Conv2d(128, 128, 3, stride=1, padding=1)\n",
        "        self.p2 = nn.MaxPool2d(2, stride=2)\n",
        "\n",
        "        self.c31 = nn.Conv2d(128, 256, 3, stride=1, padding=1)\n",
        "        self.c32 = nn.Conv2d(256, 256, 3, stride=1, padding=1)\n",
        "        self.c33 = nn.Conv2d(256, 256, 3, stride=1, padding=1)\n",
        "        self.p3 = nn.MaxPool2d(2, stride=2)\n",
        "\n",
        "        self.c41 = nn.Conv2d(256, 512, 3, stride=1, padding=1)\n",
        "        self.c42 = nn.Conv2d(512, 512, 3, stride=1, padding=1)\n",
        "        self.c43 = nn.Conv2d(512, 512, 3, stride=1, padding=1)\n",
        "        self.p4 = nn.MaxPool2d(2, stride=2)\n",
        "\n",
        "        self.c51 = nn.Conv2d(512, 512, 3, stride=1, padding=1)\n",
        "        self.c52 = nn.Conv2d(512, 512, 3, stride=1, padding=1)\n",
        "        self.c53 = nn.Conv2d(512, 512, 3, stride=1, padding=1)\n",
        "        self.p5 = nn.MaxPool2d(2, stride=2)\n",
        "\n",
        "        self.flat = nn.Flatten(1, -1)\n",
        "        self.fc1 = nn.Linear(7*7*512, 4096)\n",
        "        self.fc2 = nn.Linear(4096, 4096)\n",
        "        self.out = nn.Linear(4096, self.num_classes)\n",
        "\n",
        "    def forward(self, x):\n",
        "\n",
        "        x = x - self.RGB_mean[None, :, None, None]\n",
        "        x = self.p1(F.relu(self.c12(F.relu(self.c11(x)))))\n",
        "        x = self.p1(F.relu(self.c22(F.relu(self.c21(x)))))\n",
        "        x = self.p3(F.relu(self.c33(F.relu(self.c32(F.relu(self.c31(x)))))))\n",
        "        x = self.p4(F.relu(self.c43(F.relu(self.c42(F.relu(self.c41(x)))))))\n",
        "        x = self.p5(F.relu(self.c53(F.relu(self.c52(F.relu(self.c51(x)))))))\n",
        "        x = F.relu(self.fc2(F.relu(self.fc1(self.flat(x)))))\n",
        "        Z = self.out(x)\n",
        "\n",
        "\n",
        "        return Z"
      ],
      "execution_count": null,
      "outputs": []
    },
    {
      "cell_type": "code",
      "metadata": {
        "colab_type": "code",
        "id": "EwuOkncsWXVy",
        "colab": {}
      },
      "source": [
        "VGG_model = VGGNet(RGB_mean, 7)\n",
        "criterion = nn.CrossEntropyLoss()\n",
        "optimizer = optim.SGD(VGG_model.parameters(), lr=0.001, momentum=0.9)\n",
        "VGG_model = VGG_model.to(device)"
      ],
      "execution_count": null,
      "outputs": []
    },
    {
      "cell_type": "code",
      "metadata": {
        "colab_type": "code",
        "id": "VUTJaWtqSqQj",
        "colab": {
          "base_uri": "https://localhost:8080/",
          "height": 1000
        },
        "outputId": "b0e2334f-8805-468f-ff86-1339c80d37d2"
      },
      "source": [
        "old_loss = np.inf\n",
        "\n",
        "max_epoch = 100\n",
        "\n",
        "for epoch in range(max_epoch):\n",
        "\n",
        "    running_loss = 0.0\n",
        "    \n",
        "    for data in trainloader:\n",
        "        \n",
        "        X, y = data[0].to(device), data[1].to(device)\n",
        "        \n",
        "        optimizer.zero_grad()\n",
        "        \n",
        "        # Forward\n",
        "        y_hat = VGG_model(X)\n",
        "        \n",
        "        # Calculate Loss (Cross Entropy)\n",
        "        loss = criterion(y_hat, y)\n",
        "        \n",
        "        # Backpropagation\n",
        "        loss.backward()\n",
        "        \n",
        "        # Update Parameters\n",
        "        optimizer.step()\n",
        "        \n",
        "        running_loss += loss.item()*len(X)/train_size\n",
        "    \n",
        "    print('Epoch', epoch+1, ': Loss =', running_loss)\n",
        "    \n",
        "    # if abs(running_loss-old_loss)/running_loss < 1e-5:\n",
        "    #     print('Converged')\n",
        "    #     break\n",
        "    \n",
        "    old_loss = running_loss\n",
        "\n",
        "print('Finished Training')"
      ],
      "execution_count": null,
      "outputs": [
        {
          "output_type": "stream",
          "text": [
            "Epoch 1 : Loss = 1.9530172580625953\n",
            "Epoch 2 : Loss = 1.9529275395728989\n",
            "Epoch 3 : Loss = 1.9527151393558089\n",
            "Epoch 4 : Loss = 1.9525855858566867\n",
            "Epoch 5 : Loss = 1.952393295872918\n",
            "Epoch 6 : Loss = 1.9523229831602515\n",
            "Epoch 7 : Loss = 1.9523652771208762\n",
            "Epoch 8 : Loss = 1.9521083898245248\n",
            "Epoch 9 : Loss = 1.9520235892372264\n",
            "Epoch 10 : Loss = 1.9520390407548962\n",
            "Epoch 11 : Loss = 1.9518214900319169\n",
            "Epoch 12 : Loss = 1.9517714935728065\n",
            "Epoch 13 : Loss = 1.951701592900612\n",
            "Epoch 14 : Loss = 1.9516678055819734\n",
            "Epoch 15 : Loss = 1.9515274526350175\n",
            "Epoch 16 : Loss = 1.951506910423784\n",
            "Epoch 17 : Loss = 1.9514779147370769\n",
            "Epoch 18 : Loss = 1.9514151383775455\n",
            "Epoch 19 : Loss = 1.9514355144434272\n",
            "Epoch 20 : Loss = 1.9514344644048074\n",
            "Epoch 21 : Loss = 1.9512953608708932\n",
            "Epoch 22 : Loss = 1.951222456290747\n",
            "Epoch 23 : Loss = 1.9512854851912123\n",
            "Epoch 24 : Loss = 1.951167887511569\n",
            "Epoch 25 : Loss = 1.9512696548621409\n",
            "Epoch 26 : Loss = 1.9511845485673962\n",
            "Epoch 27 : Loss = 1.9511680137820362\n",
            "Epoch 28 : Loss = 1.951142912542363\n",
            "Epoch 29 : Loss = 1.9510807409519106\n",
            "Epoch 30 : Loss = 1.9509946444308714\n",
            "Epoch 31 : Loss = 1.9511103281160678\n",
            "Epoch 32 : Loss = 1.9508805557410478\n",
            "Epoch 33 : Loss = 1.9509624321701637\n",
            "Epoch 34 : Loss = 1.95097251387008\n",
            "Epoch 35 : Loss = 1.95102566044505\n",
            "Epoch 36 : Loss = 1.9510068527912845\n",
            "Epoch 37 : Loss = 1.9509663199713831\n",
            "Epoch 38 : Loss = 1.9509248368000733\n",
            "Epoch 39 : Loss = 1.950917619446013\n",
            "Epoch 40 : Loss = 1.950979066642735\n",
            "Epoch 41 : Loss = 1.9509179783199722\n",
            "Epoch 42 : Loss = 1.9509118708168591\n",
            "Epoch 43 : Loss = 1.9507642606409588\n",
            "Epoch 44 : Loss = 1.950861774670538\n",
            "Epoch 45 : Loss = 1.9509549024628432\n",
            "Epoch 46 : Loss = 1.950817181258252\n",
            "Epoch 47 : Loss = 1.9508722285360411\n",
            "Epoch 48 : Loss = 1.9507669455498355\n",
            "Epoch 49 : Loss = 1.9508375307408776\n",
            "Epoch 50 : Loss = 1.9507534013807981\n",
            "Epoch 51 : Loss = 1.9509724607035672\n",
            "Epoch 52 : Loss = 1.9508190221487436\n",
            "Epoch 53 : Loss = 1.950853573735998\n",
            "Epoch 54 : Loss = 1.9507967985465555\n",
            "Epoch 55 : Loss = 1.950891036189807\n",
            "Epoch 56 : Loss = 1.9508090866567365\n",
            "Epoch 57 : Loss = 1.9508230760953151\n",
            "Epoch 58 : Loss = 1.9507540194415047\n",
            "Epoch 59 : Loss = 1.9507393920047773\n",
            "Epoch 60 : Loss = 1.9508225045553067\n",
            "Epoch 61 : Loss = 1.9508592359695702\n",
            "Epoch 62 : Loss = 1.9509423019994012\n",
            "Epoch 63 : Loss = 1.9507758310032222\n",
            "Epoch 64 : Loss = 1.9507960409237532\n",
            "Epoch 65 : Loss = 1.9507220464301027\n",
            "Epoch 66 : Loss = 1.9508635491028898\n",
            "Epoch 67 : Loss = 1.9507539330459225\n",
            "Epoch 68 : Loss = 1.9507676034854264\n",
            "Epoch 69 : Loss = 1.9507797653251406\n",
            "Epoch 70 : Loss = 1.9508820444033952\n",
            "Epoch 71 : Loss = 1.9508952429901014\n",
            "Epoch 72 : Loss = 1.9508314697584621\n",
            "Epoch 73 : Loss = 1.950775259463214\n",
            "Epoch 74 : Loss = 1.95070289983982\n",
            "Epoch 75 : Loss = 1.9507590104478578\n",
            "Epoch 76 : Loss = 1.9508154865756677\n",
            "Epoch 77 : Loss = 1.9507332047518955\n",
            "Epoch 78 : Loss = 1.9507321945881593\n",
            "Epoch 79 : Loss = 1.9507446488436917\n",
            "Epoch 80 : Loss = 1.9507225780952266\n",
            "Epoch 81 : Loss = 1.950818550295946\n",
            "Epoch 82 : Loss = 1.9508218532655297\n",
            "Epoch 83 : Loss = 1.9506570570144917\n",
            "Epoch 84 : Loss = 1.9507752528173996\n",
            "Epoch 85 : Loss = 1.9506747814005676\n",
            "Epoch 86 : Loss = 1.9507750135680941\n",
            "Epoch 87 : Loss = 1.9507125030411248\n",
            "Epoch 88 : Loss = 1.9507165171128116\n",
            "Epoch 89 : Loss = 1.9507752528174\n",
            "Epoch 90 : Loss = 1.9507528298407897\n",
            "Epoch 91 : Loss = 1.9507267583122652\n",
            "Epoch 92 : Loss = 1.9506600742140712\n",
            "Epoch 93 : Loss = 1.9507398638575748\n",
            "Epoch 94 : Loss = 1.9506447689043103\n",
            "Epoch 95 : Loss = 1.9508226707006577\n",
            "Epoch 96 : Loss = 1.9506962872548388\n",
            "Epoch 97 : Loss = 1.950694645738768\n",
            "Epoch 98 : Loss = 1.9506049338948854\n",
            "Epoch 99 : Loss = 1.9507468087332591\n",
            "Epoch 100 : Loss = 1.9507919138732275\n",
            "Finished Training\n"
          ],
          "name": "stdout"
        }
      ]
    },
    {
      "cell_type": "code",
      "metadata": {
        "id": "LuguuhIInaRW",
        "colab_type": "code",
        "colab": {
          "base_uri": "https://localhost:8080/",
          "height": 282
        },
        "outputId": "6d7a8db1-1724-4001-b3ec-47ea2fe5732c"
      },
      "source": [
        "with torch.no_grad():\n",
        "    \n",
        "    train_loss = 0.0\n",
        "    y_train = []\n",
        "    y_train_pred = []\n",
        "\n",
        "    for data in trainloader:\n",
        "\n",
        "        X, y = data[0].to(device), data[1].to(device)\n",
        "        y_hat = VGG_model(X)\n",
        "        train_loss += criterion(y_hat, y)*len(X)/train_size\n",
        "        \n",
        "        y_train.extend(list(y.detach().cpu().numpy()))\n",
        "        y_train_pred.extend(list(torch.argmax(y_hat, axis=1).detach().cpu().numpy()))\n",
        "\n",
        "print('Train Loss =', test_loss.item())\n",
        "plt.imshow(confusion_matrix(y_train, y_train_pred), cmap='Reds')\n",
        "plt.show()"
      ],
      "execution_count": null,
      "outputs": [
        {
          "output_type": "stream",
          "text": [
            "Train Loss = 2.2523725032806396\n"
          ],
          "name": "stdout"
        },
        {
          "output_type": "display_data",
          "data": {
            "image/png": "[encoded data removed]",
            "text/plain": [
              "<Figure size 432x288 with 1 Axes>"
            ]
          },
          "metadata": {
            "tags": [],
            "needs_background": "light"
          }
        }
      ]
    },
    {
      "cell_type": "code",
      "metadata": {
        "colab_type": "code",
        "id": "Ok3viz8oX4nv",
        "colab": {
          "base_uri": "https://localhost:8080/",
          "height": 282
        },
        "outputId": "40e90eeb-7579-497c-be8f-f0359666f1c9"
      },
      "source": [
        "with torch.no_grad():\n",
        "    \n",
        "    test_loss = 0.0\n",
        "    y_test = []\n",
        "    y_test_pred = []\n",
        "\n",
        "    for data in testloader:\n",
        "\n",
        "        X, y = data[0].to(device), data[1].to(device)\n",
        "        y_hat = VGG_model(X)      \n",
        "        test_loss += criterion(y_hat, y)*len(X)/test_size\n",
        "        \n",
        "        y_test.extend(list(y.detach().cpu().numpy()))\n",
        "        y_test_pred.extend(list(torch.argmax(y_hat, axis=1).detach().cpu().numpy()))\n",
        "\n",
        "print('Test Loss =', test_loss.item())\n",
        "plt.imshow(confusion_matrix(y_test, y_test_pred), cmap='Reds')\n",
        "plt.show()"
      ],
      "execution_count": null,
      "outputs": [
        {
          "output_type": "stream",
          "text": [
            "Test Loss = 2.253988027572632\n"
          ],
          "name": "stdout"
        },
        {
          "output_type": "display_data",
          "data": {
            "image/png": "[encoded data removed]",
            "text/plain": [
              "<Figure size 432x288 with 1 Axes>"
            ]
          },
          "metadata": {
            "tags": [],
            "needs_background": "light"
          }
        }
      ]
    },
    {
      "cell_type": "markdown",
      "metadata": {
        "colab_type": "text",
        "id": "r_MY7HHT7GYv"
      },
      "source": [
        "### Question 1. b"
      ]
    },
    {
      "cell_type": "code",
      "metadata": {
        "colab_type": "code",
        "id": "ZEvZrYhn7JuX",
        "colab": {}
      },
      "source": [
        "class GoogLeNet(nn.Module):\n",
        "    \n",
        "    def __init__(self, n_classes, RGB_mean):\n",
        "    \n",
        "        super(GoogLeNet, self).__init__()\n",
        "        self.RGB_mean = RGB_mean.to(device)\n",
        "        self.n_classes = n_classes\n",
        "        # Convolution\n",
        "        # 3x224x224\n",
        "        self.c1 = nn.Conv2d(3, 64, 7, stride=2, padding=3)\n",
        "        # 64x112x112\n",
        "        self.mp1 = nn.MaxPool2d(3, stride=2, padding=1)\n",
        "\n",
        "        # Deep Convolution\n",
        "        # 64x56x56\n",
        "        self.c21 = nn.Conv2d(64, 64, 1, stride=1, padding=0)\n",
        "        # 64x56x56\n",
        "        self.c22 = nn.Conv2d(64, 192, 3, stride=1, padding=1)\n",
        "        # 192x56x56\n",
        "        self.mp2 = nn.MaxPool2d(3, stride=2)\n",
        "\n",
        "        # Inception 3a\n",
        "        # 192x28x28\n",
        "        # P1\n",
        "        self.c3a1 = nn.Conv2d(192, 64, 1, stride=1, padding=0)\n",
        "        # P2\n",
        "        self.c3a21 = nn.Conv2d(192, 96, 1, stride=1, padding=0)\n",
        "        self.c3a22 = nn.Conv2d(96, 128, 3, stride=1, padding=1)\n",
        "        # P3\n",
        "        self.c3a31 = nn.Conv2d(192, 16, 1, stride=1, padding=0)\n",
        "        self.c3a32 = nn.Conv2d(16, 32, 5, stride=1, padding=2)\n",
        "        # P4\n",
        "        self.mp3a4 = nn.MaxPool2d(3, stride=1, padding=1)\n",
        "        self.c3a4 = nn.Conv2d(192, 32, 1, stride=1, padding=0)\n",
        "\n",
        "        # Inception 3b\n",
        "        # 256x28x28\n",
        "        # P1\n",
        "        self.c3b1 = nn.Conv2d(256, 128, 1, stride=1, padding=0)\n",
        "        # P2\n",
        "        self.c3b21 = nn.Conv2d(256, 128, 1, stride=1, padding=0)\n",
        "        self.c3b22 = nn.Conv2d(128, 192, 3, stride=1, padding=1)\n",
        "        # P3\n",
        "        self.c3b31 = nn.Conv2d(256, 32, 1, stride=1, padding=0)\n",
        "        self.c3b32 = nn.Conv2d(32, 96, 5, stride=1, padding=2)\n",
        "        # P4\n",
        "        self.mp3b4 = nn.MaxPool2d(3, stride=1, padding=1)\n",
        "        self.c3b4 = nn.Conv2d(256, 64, 1, stride=1, padding=0)\n",
        "\n",
        "        # 480x28x28\n",
        "        # MP\n",
        "        self.mp3 = nn.MaxPool2d(3, stride=2, padding=1)\n",
        "\n",
        "        # Inception 4a\n",
        "        # 480x14x14\n",
        "        # P1\n",
        "        self.c4a1 = nn.Conv2d(480, 192, 1, stride=1, padding=0)\n",
        "        # P2\n",
        "        self.c4a21 = nn.Conv2d(480, 96, 1, stride=1, padding=0)\n",
        "        self.c4a22 = nn.Conv2d(96, 208, 3, stride=1, padding=1)\n",
        "        # P3\n",
        "        self.c4a31 = nn.Conv2d(480, 16, 1, stride=1, padding=0)\n",
        "        self.c4a32 = nn.Conv2d(16, 48, 5, stride=1, padding=2)\n",
        "        # P4\n",
        "        self.mp4a4 = nn.MaxPool2d(3, stride=1, padding=1)\n",
        "        self.c4a4 = nn.Conv2d(480, 64, 1, stride=1, padding=0)\n",
        "\n",
        "        # Auxiliary 1\n",
        "        # 512x14x14\n",
        "        self.apa1 = nn.AvgPool2d(5, stride=3, padding=0)\n",
        "        # 512x4x4\n",
        "        self.ca1 = nn.Conv2d(512, 128, 1, stride=1)\n",
        "        # 128x4x4\n",
        "        self.flat1 = nn.Flatten(1, -1)\n",
        "        # (128x4x4)x1\n",
        "        self.fca1 = nn.Linear(2048, 1024)\n",
        "        self.a1drop = nn.Dropout(0.7)\n",
        "        self.a1out = nn.Linear(1024, self.n_classes)\n",
        "\n",
        "        # Inception 4b\n",
        "        # 512x14x14\n",
        "        # P1\n",
        "        self.c4b1 = nn.Conv2d(512, 160, 1, stride=1, padding=0)\n",
        "        # P2\n",
        "        self.c4b21 = nn.Conv2d(512, 112, 1, stride=1, padding=0)\n",
        "        self.c4b22 = nn.Conv2d(112, 224, 3, stride=1, padding=1)\n",
        "        # P3\n",
        "        self.c4b31 = nn.Conv2d(512, 24, 1, stride=1, padding=0)\n",
        "        self.c4b32 = nn.Conv2d(24, 64, 5, stride=1, padding=2)\n",
        "        # P4\n",
        "        self.mp4b4 = nn.MaxPool2d(3, stride=1, padding=1)\n",
        "        self.c4b4 = nn.Conv2d(512, 64, 1, stride=1, padding=0)\n",
        "\n",
        "        # Inception 4c\n",
        "        # 512x14x14\n",
        "        # P1\n",
        "        self.c4c1 = nn.Conv2d(512, 128, 1, stride=1, padding=0)\n",
        "        # P2\n",
        "        self.c4c21 = nn.Conv2d(512, 128, 1, stride=1, padding=0)\n",
        "        self.c4c22 = nn.Conv2d(128, 256, 3, stride=1, padding=1)\n",
        "        # P3\n",
        "        self.c4c31 = nn.Conv2d(512, 24, 1, stride=1, padding=0)\n",
        "        self.c4c32 = nn.Conv2d(24, 64, 5, stride=1, padding=2)\n",
        "        # P4\n",
        "        self.mp4c4 = nn.MaxPool2d(3, stride=1, padding=1)\n",
        "        self.c4c4 = nn.Conv2d(512, 64, 1, stride=1, padding=0)\n",
        "\n",
        "        # Inception 4d\n",
        "        # 512x14x14\n",
        "        # P1\n",
        "        self.c4d1 = nn.Conv2d(512, 112, 1, stride=1, padding=0)\n",
        "        # P2\n",
        "        self.c4d21 = nn.Conv2d(512, 144, 1, stride=1, padding=0)\n",
        "        self.c4d22 = nn.Conv2d(144, 288, 3, stride=1, padding=1)\n",
        "        # P3\n",
        "        self.c4d31 = nn.Conv2d(512, 32, 1, stride=1, padding=0)\n",
        "        self.c4d32 = nn.Conv2d(32, 64, 5, stride=1, padding=2)\n",
        "        # P4\n",
        "        self.mp4d4 = nn.MaxPool2d(3, stride=1, padding=1)\n",
        "        self.c4d4 = nn.Conv2d(512, 64, 1, stride=1, padding=0)\n",
        "\n",
        "        # Auxiliary 2\n",
        "        # 528x14x14\n",
        "        self.apa2 = nn.AvgPool2d(5, stride=3, padding=0)\n",
        "        # 528x4x4\n",
        "        self.ca2 = nn.Conv2d(528, 128, 1, stride=1)\n",
        "        # 128x4x4\n",
        "        self.flat1 = nn.Flatten(1, -1)\n",
        "        # (128x4x4)x1\n",
        "        self.fca2 = nn.Linear(2048, 1024)\n",
        "        self.a2drop = nn.Dropout(0.7)\n",
        "        self.a2out = nn.Linear(1024, self.n_classes)\n",
        "\n",
        "        # Inception 4e\n",
        "        # 528x14x14\n",
        "        # P1\n",
        "        self.c4e1 = nn.Conv2d(528, 256, 1, stride=1, padding=0)\n",
        "        # P2\n",
        "        self.c4e21 = nn.Conv2d(528, 160, 1, stride=1, padding=0)\n",
        "        self.c4e22 = nn.Conv2d(160, 320, 3, stride=1, padding=1)\n",
        "        # P3\n",
        "        self.c4e31 = nn.Conv2d(528, 32, 1, stride=1, padding=0)\n",
        "        self.c4e32 = nn.Conv2d(32, 128, 5, stride=1, padding=2)\n",
        "        # P4\n",
        "        self.mp4e4 = nn.MaxPool2d(3, stride=1, padding=1)\n",
        "        self.c4e4 = nn.Conv2d(528, 128, 1, stride=1, padding=0)\n",
        "\n",
        "        # 832x14x14\n",
        "        # MP\n",
        "        self.mp4 = nn.MaxPool2d(3, stride=2, padding=1)\n",
        "\n",
        "        # Inception 5a\n",
        "        # 832x7x7\n",
        "        # P1\n",
        "        self.c5a1 = nn.Conv2d(832, 256, 1, stride=1, padding=0)\n",
        "        # P2\n",
        "        self.c5a21 = nn.Conv2d(832, 160, 1, stride=1, padding=0)\n",
        "        self.c5a22 = nn.Conv2d(160, 320, 3, stride=1, padding=1)\n",
        "        # P3\n",
        "        self.c5a31 = nn.Conv2d(832, 32, 1, stride=1, padding=0)\n",
        "        self.c5a32 = nn.Conv2d(32, 128, 5, stride=1, padding=2)\n",
        "        # P4\n",
        "        self.mp5a4 = nn.MaxPool2d(3, stride=1, padding=1)\n",
        "        self.c5a4 = nn.Conv2d(832, 128, 1, stride=1, padding=0)\n",
        "\n",
        "        # Inception 5b\n",
        "        # 832x7x7\n",
        "        # P1\n",
        "        self.c5b1 = nn.Conv2d(832, 384, 1, stride=1, padding=0)\n",
        "        # P2\n",
        "        self.c5b21 = nn.Conv2d(832, 192, 1, stride=1, padding=0)\n",
        "        self.c5b22 = nn.Conv2d(192, 384, 3, stride=1, padding=1)\n",
        "        # P3\n",
        "        self.c5b31 = nn.Conv2d(832, 48, 1, stride=1, padding=0)\n",
        "        self.c5b32 = nn.Conv2d(48, 128, 5, stride=1, padding=2)\n",
        "        # P4\n",
        "        self.mp5b4 = nn.MaxPool2d(3, stride=1, padding=1)\n",
        "        self.c5b4 = nn.Conv2d(832, 128, 1, stride=1, padding=0)\n",
        "\n",
        "        # 1024x7x7\n",
        "        self.ap = nn.AvgPool2d(7, stride=1)\n",
        "        # 1024x1x1\n",
        "        self.drop = nn.Dropout(0.4)\n",
        "        self.flat = nn.Flatten(1, -1)\n",
        "        self.out = nn.Linear(1024, self.n_classes)\n",
        "\n",
        "    def forward(self, x, auxiliary=True):\n",
        "\n",
        "        x = x - self.RGB_mean[None, :, None, None]\n",
        "\n",
        "        # Layer 1\n",
        "        x = self.mp1(F.relu(self.c1(x)))\n",
        "\n",
        "        # Layer 2\n",
        "        x = self.mp2(F.relu(self.c22(F.relu(self.c21(x)))))\n",
        "\n",
        "        # Layer 3a\n",
        "        x1 = F.relu(self.c3a1(x))\n",
        "        x2 = F.relu(self.c3a22(F.relu(self.c3a21(x))))\n",
        "        x3 = F.relu(self.c3a32(F.relu(self.c3a31(x))))\n",
        "        x4 = F.relu(self.c3a4(self.mp3a4(x)))\n",
        "        x = torch.cat((x1, x2, x3, x4), 1)\n",
        "\n",
        "        # Layer 3b\n",
        "        x1 = F.relu(self.c3b1(x))\n",
        "        x2 = F.relu(self.c3b22(F.relu(self.c3b21(x))))\n",
        "        x3 = F.relu(self.c3b32(F.relu(self.c3b31(x))))\n",
        "        x4 = F.relu(self.c3b4(self.mp3b4(x)))\n",
        "        x = self.mp3(torch.cat((x1, x2, x3, x4), 1))\n",
        "\n",
        "        # Layer 4a\n",
        "        x1 = F.relu(self.c4a1(x))\n",
        "        x2 = F.relu(self.c4a22(F.relu(self.c4a21(x))))\n",
        "        x3 = F.relu(self.c4a32(F.relu(self.c4a31(x))))\n",
        "        x4 = F.relu(self.c4a4(self.mp4a4(x)))\n",
        "        x = torch.cat((x1, x2, x3, x4), 1)\n",
        "\n",
        "        # Auxiliary 1\n",
        "        if auxiliary == True:\n",
        "            z1 = self.flat1(F.relu(self.ca1(self.apa1(x))))\n",
        "            z1 = self.a1out(self.a1drop(F.relu(self.fca1(z1))))\n",
        "        else:\n",
        "            z1 = None\n",
        "\n",
        "        # Layer 4b\n",
        "        x1 = F.relu(self.c4b1(x))\n",
        "        x2 = F.relu(self.c4b22(F.relu(self.c4b21(x))))\n",
        "        x3 = F.relu(self.c4b32(F.relu(self.c4b31(x))))\n",
        "        x4 = F.relu(self.c4b4(self.mp4b4(x)))\n",
        "        x = torch.cat((x1, x2, x3, x4), 1)\n",
        "\n",
        "        # Layer 4c\n",
        "        x1 = F.relu(self.c4c1(x))\n",
        "        x2 = F.relu(self.c4c22(F.relu(self.c4c21(x))))\n",
        "        x3 = F.relu(self.c4c32(F.relu(self.c4c31(x))))\n",
        "        x4 = F.relu(self.c4c4(self.mp4c4(x)))\n",
        "        x = torch.cat((x1, x2, x3, x4), 1)\n",
        "\n",
        "        # Layer 4d\n",
        "        x1 = F.relu(self.c4d1(x))\n",
        "        x2 = F.relu(self.c4d22(F.relu(self.c4d21(x))))\n",
        "        x3 = F.relu(self.c4d32(F.relu(self.c4d31(x))))\n",
        "        x4 = F.relu(self.c4d4(self.mp4d4(x)))\n",
        "        x = torch.cat((x1, x2, x3, x4), 1)\n",
        "\n",
        "        # Auxiliary 2\n",
        "        if auxiliary == True:\n",
        "            z2 = self.flat(F.relu(self.ca2(self.apa2(x))))\n",
        "            z2 = self.a2out(self.a2drop(F.relu(self.fca2(z2))))\n",
        "        else:\n",
        "            z2 = None\n",
        "\n",
        "        # Layer 4e\n",
        "        x1 = F.relu(self.c4e1(x))\n",
        "        x2 = F.relu(self.c4e22(F.relu(self.c4e21(x))))\n",
        "        x3 = F.relu(self.c4e32(F.relu(self.c4e31(x))))\n",
        "        x4 = F.relu(self.c4e4(self.mp4e4(x)))\n",
        "        x = self.mp4(torch.cat((x1, x2, x3, x4), 1))\n",
        "\n",
        "        # Layer 5a\n",
        "        x1 = F.relu(self.c5a1(x))\n",
        "        x2 = F.relu(self.c5a22(F.relu(self.c5a21(x))))\n",
        "        x3 = F.relu(self.c5a32(F.relu(self.c5a31(x))))\n",
        "        x4 = F.relu(self.c5a4(self.mp5a4(x)))\n",
        "        x = torch.cat((x1, x2, x3, x4), 1)\n",
        "\n",
        "        # Layer 5b\n",
        "        x1 = F.relu(self.c5b1(x))\n",
        "        x2 = F.relu(self.c5b22(F.relu(self.c5b21(x))))\n",
        "        x3 = F.relu(self.c5b32(F.relu(self.c5b31(x))))\n",
        "        x4 = F.relu(self.c5b4(self.mp5b4(x)))\n",
        "        x = torch.cat((x1, x2, x3, x4), 1)\n",
        "\n",
        "        # Final Output\n",
        "        x = self.out(self.flat(self.drop(self.ap(x))))\n",
        "\n",
        "        return x, z1, z2\n",
        "\n",
        "    \n",
        "    def predict(self, x):\n",
        "\n",
        "        y_hat = self.forward(x)\n",
        "        y_hat = torch.argmax(y_hat, axis=1)\n",
        "        return y_hat"
      ],
      "execution_count": null,
      "outputs": []
    },
    {
      "cell_type": "code",
      "metadata": {
        "colab_type": "code",
        "id": "k-5ltA0Q2kdX",
        "colab": {}
      },
      "source": [
        "classifier = GoogLeNet(7, RGB_mean)\n",
        "criterion = nn.CrossEntropyLoss()\n",
        "optimizer = optim.SGD(classifier.parameters(), lr=0.001, momentum=0.9)\n",
        "classifier = classifier.to(device)"
      ],
      "execution_count": null,
      "outputs": []
    },
    {
      "cell_type": "code",
      "metadata": {
        "colab_type": "code",
        "id": "QOH2pEviO6nE",
        "colab": {
          "base_uri": "https://localhost:8080/",
          "height": 1000
        },
        "outputId": "84bed4da-93a4-40c1-c9ad-d5ca28d150b6"
      },
      "source": [
        "\n",
        "old_loss = np.inf\n",
        "\n",
        "max_epoch = 100\n",
        "\n",
        "for epoch in range(max_epoch):\n",
        "\n",
        "    running_loss = 0.0\n",
        "    \n",
        "    for data in trainloader:\n",
        "        \n",
        "        X, y = data[0].to(device), data[1].to(device)\n",
        "        \n",
        "        optimizer.zero_grad()\n",
        "        \n",
        "        # Forward\n",
        "        y_hat, y_hat1, y_hat2 = classifier(X)\n",
        "        \n",
        "        # Calculate Loss (Cross Entropy)\n",
        "        loss_main = criterion(y_hat, y)\n",
        "        loss1 = criterion(y_hat1, y)\n",
        "        loss2 = criterion(y_hat2, y)\n",
        "\n",
        "        # Weighted Loss\n",
        "        loss = loss_main + 0.3*loss1 + 0.3*loss2\n",
        "\n",
        "        # Backpropagation\n",
        "        loss.backward()\n",
        "        \n",
        "        # Update Parameters\n",
        "        optimizer.step()\n",
        "        \n",
        "        running_loss += loss.item()*len(X)16/train_size\n",
        "    \n",
        "    print('Epoch', epoch+1, ': Loss =', running_loss)\n",
        "    \n",
        "    # if abs(running_loss-old_loss)/running_loss < 1e-5:\n",
        "    #     print('Converged')\n",
        "    #     break\n",
        "    \n",
        "    old_loss = running_loss\n",
        "\n",
        "print('Finished Training')"
      ],
      "execution_count": null,
      "outputs": [
        {
          "output_type": "stream",
          "text": [
            "Epoch 1 : Loss = 3.1238052952995696\n",
            "Epoch 2 : Loss = 3.1230392854803535\n",
            "Epoch 3 : Loss = 3.1222557041287837\n",
            "Epoch 4 : Loss = 3.1212302284373643\n",
            "Epoch 5 : Loss = 3.122042758954942\n",
            "Epoch 6 : Loss = 3.12227149458297\n",
            "Epoch 7 : Loss = 3.121719347059934\n",
            "Epoch 8 : Loss = 3.120970004942359\n",
            "Epoch 9 : Loss = 3.120733320920725\n",
            "Epoch 10 : Loss = 3.120026963928435\n",
            "Epoch 11 : Loss = 3.1203691568939527\n",
            "Epoch 12 : Loss = 3.1206211528711614\n",
            "Epoch 13 : Loss = 3.119851793561663\n",
            "Epoch 14 : Loss = 3.119395412219111\n",
            "Epoch 15 : Loss = 3.120387937964462\n",
            "Epoch 16 : Loss = 3.1187823491644777\n",
            "Epoch 17 : Loss = 3.1189311622327214\n",
            "Epoch 18 : Loss = 3.1190011027798\n",
            "Epoch 19 : Loss = 3.1165639232675377\n",
            "Epoch 20 : Loss = 3.117623810984117\n",
            "Epoch 21 : Loss = 3.1180430555177487\n",
            "Epoch 22 : Loss = 3.1181528709491366\n",
            "Epoch 23 : Loss = 3.115429894849398\n",
            "Epoch 24 : Loss = 3.1176778414523563\n",
            "Epoch 25 : Loss = 3.115609398286933\n",
            "Epoch 26 : Loss = 3.1165187848984988\n",
            "Epoch 27 : Loss = 3.1164356989312254\n",
            "Epoch 28 : Loss = 3.115076231208828\n",
            "Epoch 29 : Loss = 3.1142714497104342\n",
            "Epoch 30 : Loss = 3.113716045738513\n",
            "Epoch 31 : Loss = 3.114166525598187\n",
            "Epoch 32 : Loss = 3.1118426173406197\n",
            "Epoch 33 : Loss = 3.1126616075894558\n",
            "Epoch 34 : Loss = 3.1127608030099903\n",
            "Epoch 35 : Loss = 3.111731366413395\n",
            "Epoch 36 : Loss = 3.1118661568139907\n",
            "Epoch 37 : Loss = 3.11004764942342\n",
            "Epoch 38 : Loss = 3.109134793696919\n",
            "Epoch 39 : Loss = 3.109476415122428\n",
            "Epoch 40 : Loss = 3.1040607811266536\n",
            "Epoch 41 : Loss = 3.1036466272865852\n",
            "Epoch 42 : Loss = 3.1002469079419708\n",
            "Epoch 43 : Loss = 3.100230120615677\n",
            "Epoch 44 : Loss = 3.0974772383527065\n",
            "Epoch 45 : Loss = 3.0927302795835487\n",
            "Epoch 46 : Loss = 3.093684671647872\n",
            "Epoch 47 : Loss = 3.0822818370646305\n",
            "Epoch 48 : Loss = 3.085298637895219\n",
            "Epoch 49 : Loss = 3.0820934415278947\n",
            "Epoch 50 : Loss = 3.0788125759217797\n",
            "Epoch 51 : Loss = 3.0683816251854448\n",
            "Epoch 52 : Loss = 3.066642016899295\n",
            "Epoch 53 : Loss = 3.0607128076852415\n",
            "Epoch 54 : Loss = 3.0553530649856406\n",
            "Epoch 55 : Loss = 3.049960571714394\n",
            "Epoch 56 : Loss = 3.0451587583960555\n",
            "Epoch 57 : Loss = 3.0332160843374005\n",
            "Epoch 58 : Loss = 3.0346160915255136\n",
            "Epoch 59 : Loss = 3.02311949779763\n",
            "Epoch 60 : Loss = 3.017672070227434\n",
            "Epoch 61 : Loss = 3.0050598171114506\n",
            "Epoch 62 : Loss = 3.020624074371019\n",
            "Epoch 63 : Loss = 3.012790480557219\n",
            "Epoch 64 : Loss = 2.987224180108579\n",
            "Epoch 65 : Loss = 2.9898432954263185\n",
            "Epoch 66 : Loss = 2.978492271609423\n",
            "Epoch 67 : Loss = 2.977321943754934\n",
            "Epoch 68 : Loss = 2.9800978737010353\n",
            "Epoch 69 : Loss = 2.989417750660966\n",
            "Epoch 70 : Loss = 2.96784091909588\n",
            "Epoch 71 : Loss = 2.964165943424876\n",
            "Epoch 72 : Loss = 2.9631611495067847\n",
            "Epoch 73 : Loss = 2.9890824826336906\n",
            "Epoch 74 : Loss = 2.9443509304565003\n",
            "Epoch 75 : Loss = 2.961014963608586\n",
            "Epoch 76 : Loss = 2.9508424685807184\n",
            "Epoch 77 : Loss = 2.9380501537788204\n",
            "Epoch 78 : Loss = 2.9470148119776924\n",
            "Epoch 79 : Loss = 2.9399164844473065\n",
            "Epoch 80 : Loss = 2.9221484087900826\n",
            "Epoch 81 : Loss = 2.92536402579384\n",
            "Epoch 82 : Loss = 2.923080391169425\n",
            "Epoch 83 : Loss = 2.9206154454460536\n",
            "Epoch 84 : Loss = 2.925782911453513\n",
            "Epoch 85 : Loss = 2.8978091382814197\n",
            "Epoch 86 : Loss = 2.9133586817086776\n",
            "Epoch 87 : Loss = 2.9131306638285674\n",
            "Epoch 88 : Loss = 2.8979167871774276\n",
            "Epoch 89 : Loss = 2.8985227525026542\n",
            "Epoch 90 : Loss = 2.889909578117344\n",
            "Epoch 91 : Loss = 2.885534691893681\n",
            "Epoch 92 : Loss = 2.8777792395615\n",
            "Epoch 93 : Loss = 2.8764389782417115\n",
            "Epoch 94 : Loss = 2.874917179865289\n",
            "Epoch 95 : Loss = 2.8878813687101887\n",
            "Epoch 96 : Loss = 2.85564547548726\n",
            "Epoch 97 : Loss = 2.8542298373444983\n",
            "Epoch 98 : Loss = 2.8737023383482825\n",
            "Epoch 99 : Loss = 2.865447413215238\n",
            "Epoch 100 : Loss = 2.8672596868322286\n",
            "Finished Training\n"
          ],
          "name": "stdout"
        }
      ]
    },
    {
      "cell_type": "code",
      "metadata": {
        "id": "fVvSW-o33fn7",
        "colab_type": "code",
        "colab": {
          "base_uri": "https://localhost:8080/",
          "height": 282
        },
        "outputId": "a4db908d-e4e5-44e2-98b8-733f5d84fe86"
      },
      "source": [
        "with torch.no_grad():\n",
        "    \n",
        "    train_loss = 0.0\n",
        "    y_train = []\n",
        "    y_train_pred = []\n",
        "\n",
        "    for data in trainloader:\n",
        "\n",
        "        X, y = data[0].to(device), data[1].to(device)\n",
        "        y_hat, _, _ = classifier(X)      \n",
        "        train_loss += criterion(y_hat, y)*len(X)/train_size\n",
        "        \n",
        "        y_train.extend(list(y.detach().cpu().numpy()))\n",
        "        y_train_pred.extend(list(torch.argmax(y_hat, axis=1).detach().cpu().numpy()))\n",
        "\n",
        "print('Train Loss =', train_loss.item())\n",
        "plt.imshow(confusion_matrix(y_train, y_train_pred), cmap='Reds')\n",
        "plt.show()"
      ],
      "execution_count": null,
      "outputs": [
        {
          "output_type": "stream",
          "text": [
            "Train Loss = 1.9430598020553589\n"
          ],
          "name": "stdout"
        },
        {
          "output_type": "display_data",
          "data": {
            "image/png": "[encoded data removed]",
            "text/plain": [
              "<Figure size 432x288 with 1 Axes>"
            ]
          },
          "metadata": {
            "tags": [],
            "needs_background": "light"
          }
        }
      ]
    },
    {
      "cell_type": "code",
      "metadata": {
        "id": "ylNoy_9_3fA4",
        "colab_type": "code",
        "colab": {
          "base_uri": "https://localhost:8080/",
          "height": 88
        },
        "outputId": "974ac671-600c-42f4-f0a3-7444558e016b"
      },
      "source": [
        "acc = accuracy_score(y_train, y_train_pred)\n",
        "prec = precision_score(y_train, y_train_pred, average='macro')\n",
        "f1 = f1_score(y_train, y_train_pred, average='macro')\n",
        "\n",
        "print('Train Accuracy =', acc, 'Train Precision =', prec, 'Train F1 =', f1)"
      ],
      "execution_count": null,
      "outputs": [
        {
          "output_type": "stream",
          "text": [
            "Train Accuracy = 0.1602787456445993 Train Precision = 0.022896963663514184 Train F1 = 0.039468039468039465\n"
          ],
          "name": "stdout"
        },
        {
          "output_type": "stream",
          "text": [
            "/usr/local/lib/python3.6/dist-packages/sklearn/metrics/_classification.py:1272: UndefinedMetricWarning: Precision is ill-defined and being set to 0.0 in labels with no predicted samples. Use `zero_division` parameter to control this behavior.\n",
            "  _warn_prf(average, modifier, msg_start, len(result))\n"
          ],
          "name": "stderr"
        }
      ]
    },
    {
      "cell_type": "code",
      "metadata": {
        "colab_type": "code",
        "id": "ATw2OTqQiJCq",
        "colab": {
          "base_uri": "https://localhost:8080/",
          "height": 282
        },
        "outputId": "b56155dd-17f5-4b85-8a7d-09cb2129279e"
      },
      "source": [
        "with torch.no_grad():\n",
        "    \n",
        "    test_loss = 0.0\n",
        "    y_test = []\n",
        "    y_test_pred = []\n",
        "\n",
        "    for data in testloader:\n",
        "\n",
        "        X, y = data[0].to(device), data[1].to(device)\n",
        "        y_hat, _, _ = classifier(X)      \n",
        "        test_loss += criterion(y_hat, y)*len(X)/test_size\n",
        "        \n",
        "        y_test.extend(list(y.detach().cpu().numpy()))\n",
        "        y_test_pred.extend(list(torch.argmax(y_hat, axis=1).detach().cpu().numpy()))\n",
        "\n",
        "print('Test Loss =', test_loss.item())\n",
        "plt.imshow(confusion_matrix(y_test, y_test_pred), cmap='Reds')\n",
        "plt.show()"
      ],
      "execution_count": null,
      "outputs": [
        {
          "output_type": "stream",
          "text": [
            "Test Loss = 1.9689445495605469\n"
          ],
          "name": "stdout"
        },
        {
          "output_type": "display_data",
          "data": {
            "image/png": "[encoded data removed]",
            "text/plain": [
              "<Figure size 432x288 with 1 Axes>"
            ]
          },
          "metadata": {
            "tags": [],
            "needs_background": "light"
          }
        }
      ]
    },
    {
      "cell_type": "code",
      "metadata": {
        "id": "rgq5cyyZ4m15",
        "colab_type": "code",
        "colab": {
          "base_uri": "https://localhost:8080/",
          "height": 88
        },
        "outputId": "4196425a-ff6c-48f3-a247-51016ad3e4ec"
      },
      "source": [
        "acc = accuracy_score(y_test, y_test_pred)\n",
        "prec = precision_score(y_test, y_test_pred, average='macro')\n",
        "f1 = f1_score(y_test, y_test_pred, average='macro')\n",
        "\n",
        "print('Train Accuracy =', acc, 'Train Precision =', prec, 'Train F1 =', f1)"
      ],
      "execution_count": null,
      "outputs": [
        {
          "output_type": "stream",
          "text": [
            "Train Accuracy = 0.047619047619047616 Train Precision = 0.006802721088435374 Train F1 = 0.012987012987012986\n"
          ],
          "name": "stdout"
        },
        {
          "output_type": "stream",
          "text": [
            "/usr/local/lib/python3.6/dist-packages/sklearn/metrics/_classification.py:1272: UndefinedMetricWarning: Precision is ill-defined and being set to 0.0 in labels with no predicted samples. Use `zero_division` parameter to control this behavior.\n",
            "  _warn_prf(average, modifier, msg_start, len(result))\n"
          ],
          "name": "stderr"
        }
      ]
    },
    {
      "cell_type": "markdown",
      "metadata": {
        "colab_type": "text",
        "id": "s1RPoXsreDy4"
      },
      "source": [
        "### Question 2"
      ]
    },
    {
      "cell_type": "code",
      "metadata": {
        "colab_type": "code",
        "id": "NuqwHPPlQavd",
        "colab": {}
      },
      "source": [
        "class CNN2(nn.Module):\n",
        "    \n",
        "    def __init__(self, n_classes):\n",
        "        super(CNN2, self).__init__()\n",
        "\n",
        "        self.n_classes = n_classes\n",
        "        # 3x224x224\n",
        "        self.cl1 = nn.Conv2d(3, 4, 3, stride=1, padding=1)\n",
        "        # 4x224x224\n",
        "        self.pl1 = nn.AvgPool2d(2, stride=2)\n",
        "        # 4x112x112\n",
        "        self.cl2 = nn.Conv2d(4, 16, 3, stride=1, padding=1)\n",
        "        # 16x112x112\n",
        "        self.pl2 = nn.AvgPool2d(2, stride=2)\n",
        "\n",
        "        # 16x56x56\n",
        "        self.flat = nn.Flatten(1, -1)\n",
        "        # (16x56x56)x1\n",
        "        self.out = nn.Linear(16*56*56, self.n_classes)\n",
        "\n",
        "\n",
        "    def forward(self, x):\n",
        "        \n",
        "        x = self.pl1(F.relu(self.cl1(x)))\n",
        "        x = self.pl2(F.relu(self.cl2(x)))\n",
        "        x = self.out(self.flat(x))\n",
        "\n",
        "        return x\n",
        "\n",
        "\n",
        "    def predict(self, x):\n",
        "\n",
        "        y_hat = self.forward(x)\n",
        "        y_hat = torch.argmax(y_hat, axis=1)\n",
        "        return y_hat"
      ],
      "execution_count": null,
      "outputs": []
    },
    {
      "cell_type": "code",
      "metadata": {
        "colab_type": "code",
        "id": "y4dEykLIhv7s",
        "colab": {}
      },
      "source": [
        "classifier = CNN2(7)\n",
        "criterion = nn.CrossEntropyLoss()\n",
        "optimizer = optim.SGD(classifier.parameters(), lr=0.0001, momentum=0.9)\n",
        "classifier = classifier.to(device)"
      ],
      "execution_count": null,
      "outputs": []
    },
    {
      "cell_type": "code",
      "metadata": {
        "colab_type": "code",
        "id": "_3RX6TtEhMFp",
        "colab": {
          "base_uri": "https://localhost:8080/",
          "height": 612
        },
        "outputId": "4ce92e13-ce65-4301-930e-5cccd21edd7e"
      },
      "source": [
        "old_loss = np.inf\n",
        "from IPython.display import clear_output\n",
        "losses = []\n",
        "max_epoch = 200\n",
        "for epoch in range(max_epoch):\n",
        "\n",
        "    running_loss = 0.0\n",
        "    \n",
        "    for data in trainloader:\n",
        "            \n",
        "        X, y = data[0].to(device), data[1].to(device)\n",
        "        \n",
        "        optimizer.zero_grad()\n",
        "        \n",
        "        # Forward\n",
        "        y_hat = classifier(X)\n",
        "        \n",
        "        # Calculate Loss (Cross Entropy)\n",
        "        loss = criterion(y_hat, y)\n",
        "\n",
        "        # Backpropagation\n",
        "        loss.backward()\n",
        "        \n",
        "        # Update Parameters\n",
        "        optimizer.step()\n",
        "        \n",
        "        running_loss += loss.item()*len(X)/train_size\n",
        "\n",
        "    print('Epoch', epoch+1, ': Loss =', running_loss)\n",
        "    losses.append(running_loss)\n",
        "\n",
        "    \n",
        "    if (abs(running_loss-old_loss)/running_loss < 0.2) and epoch>=10 and running_loss<0.01:\n",
        "        print('Converged')\n",
        "        break\n",
        "    \n",
        "    old_loss = running_loss\n",
        "\n",
        "print('Finished Training')"
      ],
      "execution_count": null,
      "outputs": [
        {
          "output_type": "stream",
          "text": [
            "Epoch 1 : Loss = 8.51608510382915\n",
            "Epoch 2 : Loss = 1.9994171861987495\n",
            "Epoch 3 : Loss = 1.9447825997548651\n",
            "Epoch 4 : Loss = 1.9335377008657422\n",
            "Epoch 5 : Loss = 1.924046891906951\n",
            "Epoch 6 : Loss = 1.915209303749563\n",
            "Epoch 7 : Loss = 1.8966690609264043\n",
            "Epoch 8 : Loss = 1.880748568926954\n",
            "Epoch 9 : Loss = 1.8649288818811292\n",
            "Epoch 10 : Loss = 1.8444972038269043\n",
            "Epoch 11 : Loss = 1.8139404183065437\n",
            "Epoch 12 : Loss = 1.783672104729177\n",
            "Epoch 13 : Loss = 1.748245834888897\n",
            "Epoch 14 : Loss = 1.6984773778749263\n",
            "Epoch 15 : Loss = 1.6479445400969077\n",
            "Epoch 16 : Loss = 1.5252120798057796\n",
            "Epoch 17 : Loss = 1.3692599933737246\n",
            "Epoch 18 : Loss = 1.1686137353917032\n",
            "Epoch 19 : Loss = 0.993157974103602\n",
            "Epoch 20 : Loss = 0.7433030617777064\n",
            "Epoch 21 : Loss = 0.5656542364728576\n",
            "Epoch 22 : Loss = 0.4901453439366943\n",
            "Epoch 23 : Loss = 0.36426011267854774\n",
            "Epoch 24 : Loss = 0.3462182510812939\n",
            "Epoch 25 : Loss = 0.3036954419538119\n",
            "Epoch 26 : Loss = 0.10046271201002474\n",
            "Epoch 27 : Loss = 0.06260648136147225\n",
            "Epoch 28 : Loss = 0.04024827143482422\n",
            "Epoch 29 : Loss = 0.026623422656377016\n",
            "Epoch 30 : Loss = 0.01634821658532171\n",
            "Epoch 31 : Loss = 0.01191775640635021\n",
            "Epoch 32 : Loss = 0.009365431529563895\n",
            "Epoch 33 : Loss = 0.008167996201080104\n",
            "Converged\n",
            "Finished Training\n"
          ],
          "name": "stdout"
        }
      ]
    },
    {
      "cell_type": "code",
      "metadata": {
        "colab_type": "code",
        "id": "RskMmPeG5RAU",
        "colab": {
          "base_uri": "https://localhost:8080/",
          "height": 282
        },
        "outputId": "f000db14-7758-4968-c0c9-89cbcd23fcb1"
      },
      "source": [
        "with torch.no_grad():\n",
        "    \n",
        "    train_loss = 0.0\n",
        "    y_train = []\n",
        "    y_train_pred = []\n",
        "\n",
        "    for data in trainloader:\n",
        "\n",
        "        X, y = data[0].to(device), data[1].to(device)\n",
        "        y_hat = classifier(X)      \n",
        "        train_loss += criterion(y_hat, y)*len(X)/train_size\n",
        "        \n",
        "        y_train.extend(list(y.detach().cpu().numpy()))\n",
        "        y_train_pred.extend(list(torch.argmax(y_hat, axis=1).detach().cpu().numpy()))\n",
        "\n",
        "print('Train Loss =', train_loss.item())\n",
        "plt.imshow(confusion_matrix(y_train, y_train_pred), cmap='Reds')\n",
        "plt.show()"
      ],
      "execution_count": null,
      "outputs": [
        {
          "output_type": "stream",
          "text": [
            "Train Loss = 0.007632026448845863\n"
          ],
          "name": "stdout"
        },
        {
          "output_type": "display_data",
          "data": {
            "image/png": "[encoded data removed]",
            "text/plain": [
              "<Figure size 432x288 with 1 Axes>"
            ]
          },
          "metadata": {
            "tags": [],
            "needs_background": "light"
          }
        }
      ]
    },
    {
      "cell_type": "code",
      "metadata": {
        "colab_type": "code",
        "id": "s1_WEeod6Bg2",
        "colab": {
          "base_uri": "https://localhost:8080/",
          "height": 34
        },
        "outputId": "e1f2c8f9-6acb-401c-d029-0dca544e1bac"
      },
      "source": [
        "acc_tr = accuracy_score(y_train, y_train_pred)\n",
        "prec_tr = precision_score(y_train, y_train_pred, average='weighted')\n",
        "f1_tr = f1_score(y_train, y_train_pred, average='weighted')\n",
        "\n",
        "print('Train Accuracy =', acc_tr, 'Train Precision =', prec_tr, 'Train F1 =', f1_tr)"
      ],
      "execution_count": null,
      "outputs": [
        {
          "output_type": "stream",
          "text": [
            "Train Accuracy = 1.0 Train Precision = 1.0 Train F1 = 1.0\n"
          ],
          "name": "stdout"
        }
      ]
    },
    {
      "cell_type": "code",
      "metadata": {
        "id": "1Uf2CJP5jrId",
        "colab_type": "code",
        "collapsed": true,
        "colab": {
          "base_uri": "https://localhost:8080/",
          "height": 265
        },
        "outputId": "5864ba77-5740-4bc4-b682-aa2e6f9ae5f5"
      },
      "source": [
        "plt.plot(losses)\n",
        "plt.show()"
      ],
      "execution_count": null,
      "outputs": [
        {
          "output_type": "display_data",
          "data": {
            "image/png": "[encoded data removed]",
            "text/plain": [
              "<Figure size 432x288 with 1 Axes>"
            ]
          },
          "metadata": {
            "tags": [],
            "needs_background": "light"
          }
        }
      ]
    },
    {
      "cell_type": "code",
      "metadata": {
        "colab_type": "code",
        "id": "4eAKVd07iASJ",
        "colab": {
          "base_uri": "https://localhost:8080/",
          "height": 282
        },
        "outputId": "a81f39e0-6cd6-43c7-949e-9b39eea22f4b"
      },
      "source": [
        "with torch.no_grad():\n",
        "    \n",
        "    test_loss = 0.0\n",
        "    y_test = []\n",
        "    y_test_pred = []\n",
        "\n",
        "    for data in testloader:\n",
        "\n",
        "        X, y = data[0].to(device), data[1].to(device)\n",
        "        y_hat = classifier(X)      \n",
        "        test_loss += criterion(y_hat, y)*len(X)/test_size\n",
        "        \n",
        "        y_test.extend(list(y.detach().cpu().numpy()))\n",
        "        y_test_pred.extend(list(torch.argmax(y_hat, axis=1).detach().cpu().numpy()))\n",
        "\n",
        "print('Test Loss =', test_loss.item())\n",
        "plt.imshow(confusion_matrix(y_test, y_test_pred), cmap='Reds')\n",
        "plt.show()"
      ],
      "execution_count": null,
      "outputs": [
        {
          "output_type": "stream",
          "text": [
            "Test Loss = 3.1113786697387695\n"
          ],
          "name": "stdout"
        },
        {
          "output_type": "display_data",
          "data": {
            "image/png": "[encoded data removed]",
            "text/plain": [
              "<Figure size 432x288 with 1 Axes>"
            ]
          },
          "metadata": {
            "tags": [],
            "needs_background": "light"
          }
        }
      ]
    },
    {
      "cell_type": "code",
      "metadata": {
        "colab_type": "code",
        "id": "qJK9h5xu4DjA",
        "colab": {
          "base_uri": "https://localhost:8080/",
          "height": 34
        },
        "outputId": "1934143c-b626-4505-c384-52d9bf3af7f2"
      },
      "source": [
        "acc = accuracy_score(y_test, y_test_pred)\n",
        "prec = precision_score(y_test, y_test_pred, average='macro')\n",
        "f1 = f1_score(y_test, y_test_pred, average='macro')\n",
        "\n",
        "print('Test Accuracy =', acc, 'Test Precision =', prec, 'Test F1 =', f1)"
      ],
      "execution_count": null,
      "outputs": [
        {
          "output_type": "stream",
          "text": [
            "Test Accuracy = 0.2619047619047619 Test Precision = 0.28922902494331065 Test F1 = 0.25354090354090353\n"
          ],
          "name": "stdout"
        }
      ]
    },
    {
      "cell_type": "markdown",
      "metadata": {
        "colab_type": "text",
        "id": "_vIZ1K6eE33v"
      },
      "source": [
        "## Question 3"
      ]
    },
    {
      "cell_type": "code",
      "metadata": {
        "colab_type": "code",
        "id": "jVC5hAh8E33x",
        "colab": {}
      },
      "source": [
        "class CNN3(nn.Module):\n",
        "    \n",
        "    def __init__(self, n_classes, k=4):\n",
        "        super(CNN3, self).__init__()\n",
        "\n",
        "        self.n_classes = n_classes\n",
        "        # 3x224x224\n",
        "        self.cl1 = nn.Conv2d(3, 4, 3, stride=1, padding=1)\n",
        "        # 4x224x224\n",
        "        self.pl1 = nn.AvgPool2d(2, stride=2)\n",
        "        # 4x112x112\n",
        "        self.cl2 = nn.Conv2d(4, 16, 3, stride=1, padding=1)\n",
        "        # 16x112x112\n",
        "        self.pl2 = nn.AvgPool2d(2, stride=2)\n",
        "\n",
        "        # NetVLAD\n",
        "        self.K = k\n",
        "        self.nv_conv = nn.Conv2d(16, self.K, 1)\n",
        "        self.nv_soft_ass = nn.Softmax2d()\n",
        "\n",
        "        # NetVLAD Parameter\n",
        "        self.c = nn.Parameter(torch.rand(self.K, 16))\n",
        "        \n",
        "        # Flatten to get h\n",
        "        self.flat = nn.Flatten(1, -1)\n",
        "\n",
        "        # Output layer\n",
        "        self.out = nn.Linear(self.K*16, self.n_classes)\n",
        "        \n",
        "\n",
        "    def forward(self, x):\n",
        "        \n",
        "        # print(x.shape)\n",
        "        x = self.pl1(F.relu(self.cl1(x)))\n",
        "        # print(x.shape)\n",
        "        x = self.pl2(F.relu(self.cl2(x)))\n",
        "        # print(x.shape)\n",
        "        \n",
        "        # NetVLAD Step 1\n",
        "        a = self.nv_soft_ass(self.nv_conv(x))\n",
        "\n",
        "        # NetVLAD Step 2\n",
        "        for k in range(self.K):\n",
        "            a_k = a[:, k, :, :]\n",
        "            c_k = self.c[k, :]\n",
        "            temp = (x - c_k.reshape(1, -1, 1, 1))*a_k.unsqueeze(1)\n",
        "            z_k = torch.sum(temp, axis=(2, 3))\n",
        "            if k==0:\n",
        "                Z = z_k.unsqueeze(1)\n",
        "            else:\n",
        "                Z = torch.cat((Z, z_k.unsqueeze(1)), 1)\n",
        "        \n",
        "        # Flatten\n",
        "        Z = self.flat(Z)\n",
        "        # print('Z shape', Z.shape)\n",
        "        Z = self.out(Z)\n",
        "\n",
        "        return Z\n",
        "\n",
        "\n",
        "    def predict(self, x):\n",
        "\n",
        "        y_hat = self.forward(x)\n",
        "        y_hat = torch.argmax(y_hat, axis=1)\n",
        "        return y_hat"
      ],
      "execution_count": 44,
      "outputs": []
    },
    {
      "cell_type": "code",
      "metadata": {
        "colab_type": "code",
        "id": "2NO7TpyJE330",
        "colab": {}
      },
      "source": [
        "classifier = CNN3(7)\n",
        "criterion = nn.CrossEntropyLoss()\n",
        "optimizer = optim.SGD(classifier.parameters(), lr=0.0001, momentum=0.9)\n",
        "classifier = classifier.to(device)"
      ],
      "execution_count": 45,
      "outputs": []
    },
    {
      "cell_type": "code",
      "metadata": {
        "id": "Tmxv4-HM1did",
        "colab_type": "code",
        "colab": {
          "base_uri": "https://localhost:8080/",
          "height": 1000
        },
        "outputId": "e3a390f0-8156-403e-daa8-91280233a4fd"
      },
      "source": [
        "old_loss = np.inf\n",
        "from IPython.display import clear_output\n",
        "losses = []\n",
        "max_epoch = 200\n",
        "for epoch in range(max_epoch):\n",
        "\n",
        "    running_loss = 0.0\n",
        "    \n",
        "    for data in trainloader:\n",
        "            \n",
        "        X, y = data[0].to(device), data[1].to(device)\n",
        "        \n",
        "        optimizer.zero_grad()\n",
        "        \n",
        "        # Forward\n",
        "        y_hat = classifier(X)\n",
        "        \n",
        "        # Calculate Loss (Cross Entropy)\n",
        "        loss = criterion(y_hat, y)\n",
        "\n",
        "        # Backpropagation\n",
        "        loss.backward()\n",
        "        \n",
        "        # Update Parameters\n",
        "        optimizer.step()\n",
        "        \n",
        "        running_loss += loss.item()*len(X)/train_size\n",
        "\n",
        "    print('Epoch', epoch+1, ': Loss =', running_loss)\n",
        "    losses.append(running_loss)\n",
        "\n",
        "    \n",
        "    if (abs(running_loss-old_loss)/running_loss < 0.2) and epoch>=10 and running_loss<0.01:\n",
        "        print('Converged')\n",
        "        break\n",
        "    \n",
        "    old_loss = running_loss\n",
        "\n",
        "print('Finished Training')"
      ],
      "execution_count": null,
      "outputs": [
        {
          "output_type": "stream",
          "text": [
            "Epoch 1 : Loss = 85807623.2677891\n",
            "Epoch 2 : Loss = 28301.72832507622\n",
            "Epoch 3 : Loss = 18408.02954186629\n",
            "Epoch 4 : Loss = 43676.23143510452\n",
            "Epoch 5 : Loss = 43213.82771668119\n",
            "Epoch 6 : Loss = 126600.11846689894\n",
            "Epoch 7 : Loss = 240719.85224303138\n",
            "Epoch 8 : Loss = 215393.4227324695\n",
            "Epoch 9 : Loss = 71398.49858449477\n",
            "Epoch 10 : Loss = 141169.75748584495\n",
            "Epoch 11 : Loss = 207208.68343042248\n",
            "Epoch 12 : Loss = 56377.06017258275\n",
            "Epoch 13 : Loss = 39714.29333623694\n",
            "Epoch 14 : Loss = 69156.5947027439\n",
            "Epoch 15 : Loss = 49089.8818121189\n",
            "Epoch 16 : Loss = 115871.9918336237\n",
            "Epoch 17 : Loss = 96327.01796602787\n",
            "Epoch 18 : Loss = 180568.33177264806\n",
            "Epoch 19 : Loss = 158264.56037674216\n",
            "Epoch 20 : Loss = 189712.8424978223\n",
            "Epoch 21 : Loss = 186683.625\n",
            "Epoch 22 : Loss = 348658.04322735185\n",
            "Epoch 23 : Loss = 444821.3343858886\n",
            "Epoch 24 : Loss = 376555.8679224739\n",
            "Epoch 25 : Loss = 439843.20198170736\n",
            "Epoch 26 : Loss = 271717.7355182927\n",
            "Epoch 27 : Loss = 346034.916104094\n",
            "Epoch 28 : Loss = 582051.9578614983\n",
            "Epoch 29 : Loss = 458804.6652874565\n",
            "Epoch 30 : Loss = 782716.6406794424\n",
            "Epoch 31 : Loss = 737370.8886106273\n",
            "Epoch 32 : Loss = 1109940.2602351916\n",
            "Epoch 33 : Loss = 1259644.2229965155\n",
            "Epoch 34 : Loss = 1218806.8020470385\n",
            "Epoch 35 : Loss = 1253718.5966898955\n",
            "Epoch 36 : Loss = 1410611.5966898955\n",
            "Epoch 37 : Loss = 1033366.2402003484\n",
            "Epoch 38 : Loss = 890387.5984320558\n",
            "Epoch 39 : Loss = 919064.6055095819\n",
            "Epoch 40 : Loss = 1764849.037456446\n",
            "Epoch 41 : Loss = 2898772.5217770035\n",
            "Epoch 42 : Loss = 1614562.4259581878\n",
            "Epoch 43 : Loss = 1797812.1681184666\n",
            "Epoch 44 : Loss = 2174955.413763066\n",
            "Epoch 45 : Loss = 1540044.131533101\n",
            "Epoch 46 : Loss = 1730273.8837108014\n",
            "Epoch 47 : Loss = 1958297.656794425\n",
            "Epoch 48 : Loss = 1609277.43793554\n",
            "Epoch 49 : Loss = 2174077.093858885\n",
            "Epoch 50 : Loss = 2493788.206010453\n",
            "Epoch 51 : Loss = 2400234.141768293\n",
            "Epoch 52 : Loss = 2040736.8732578398\n",
            "Epoch 53 : Loss = 2971595.155923345\n",
            "Epoch 54 : Loss = 4200028.503484321\n",
            "Epoch 55 : Loss = 8876385.809233451\n",
            "Epoch 56 : Loss = 11815059.135888502\n",
            "Epoch 57 : Loss = 5941518.754355401\n",
            "Epoch 58 : Loss = 11030383.993031358\n",
            "Epoch 59 : Loss = 16088955.707317073\n",
            "Epoch 60 : Loss = 16107798.655052265\n",
            "Epoch 61 : Loss = 25727843.770034846\n",
            "Epoch 62 : Loss = 29940467.972125437\n",
            "Epoch 63 : Loss = 47400227.72125436\n",
            "Epoch 64 : Loss = 66212622.773519166\n",
            "Epoch 65 : Loss = 53510676.153310105\n",
            "Epoch 66 : Loss = 33647129.31010453\n"
          ],
          "name": "stdout"
        }
      ]
    },
    {
      "cell_type": "code",
      "metadata": {
        "id": "BAJMMT7Z0_Ri",
        "colab_type": "code",
        "colab": {
          "base_uri": "https://localhost:8080/",
          "height": 282
        },
        "outputId": "522c15f7-3340-4a72-f00c-8e2ce384dd52"
      },
      "source": [
        "with torch.no_grad():\n",
        "    \n",
        "    train_loss = 0.0\n",
        "    y_train = []\n",
        "    y_train_pred = []\n",
        "\n",
        "    for data in trainloader:\n",
        "\n",
        "        X, y = data[0].to(device), data[1].to(device)\n",
        "        y_hat = classifier(X)      \n",
        "        train_loss += criterion(y_hat, y)*len(X)/train_size\n",
        "        \n",
        "        y_train.extend(list(y.detach().cpu().numpy()))\n",
        "        y_train_pred.extend(list(torch.argmax(y_hat, axis=1).detach().cpu().numpy()))\n",
        "\n",
        "print('Train Loss =', train_loss.item())\n",
        "plt.imshow(confusion_matrix(y_train, y_train_pred), cmap='Reds')\n",
        "plt.show()"
      ],
      "execution_count": 34,
      "outputs": [
        {
          "output_type": "stream",
          "text": [
            "Train Loss = 21922.796875\n"
          ],
          "name": "stdout"
        },
        {
          "output_type": "display_data",
          "data": {
            "image/png": "[encoded data removed]",
            "text/plain": [
              "<Figure size 432x288 with 1 Axes>"
            ]
          },
          "metadata": {
            "tags": [],
            "needs_background": "light"
          }
        }
      ]
    },
    {
      "cell_type": "code",
      "metadata": {
        "id": "KsXfxUyu1OJm",
        "colab_type": "code",
        "colab": {
          "base_uri": "https://localhost:8080/",
          "height": 87
        },
        "outputId": "c3a72c9d-8c46-4da8-87f9-5b876309617a"
      },
      "source": [
        "acc_tr = accuracy_score(y_train, y_train_pred)\n",
        "prec_tr = precision_score(y_train, y_train_pred, average='weighted')\n",
        "f1_tr = f1_score(y_train, y_train_pred, average='weighted')\n",
        "\n",
        "print('Train Accuracy =', acc_tr, 'Train Precision =', prec_tr, 'Train F1 =', f1_tr)"
      ],
      "execution_count": 35,
      "outputs": [
        {
          "output_type": "stream",
          "text": [
            "Train Accuracy = 0.13240418118466898 Train Precision = 0.017530867195182653 Train F1 = 0.030962208523184133\n"
          ],
          "name": "stdout"
        },
        {
          "output_type": "stream",
          "text": [
            "/usr/local/lib/python3.6/dist-packages/sklearn/metrics/_classification.py:1272: UndefinedMetricWarning: Precision is ill-defined and being set to 0.0 in labels with no predicted samples. Use `zero_division` parameter to control this behavior.\n",
            "  _warn_prf(average, modifier, msg_start, len(result))\n"
          ],
          "name": "stderr"
        }
      ]
    },
    {
      "cell_type": "code",
      "metadata": {
        "colab_type": "code",
        "id": "lcw20TIlE334",
        "colab": {
          "base_uri": "https://localhost:8080/",
          "height": 282
        },
        "outputId": "20e16188-c826-4eed-af1b-6afda2df8118"
      },
      "source": [
        "with torch.no_grad():\n",
        "    \n",
        "    test_loss = 0.0\n",
        "    y_test = []\n",
        "    y_test_pred = []\n",
        "\n",
        "    for data in testloader:\n",
        "\n",
        "        X, y = data[0].to(device), data[1].to(device)\n",
        "        y_hat = classifier(X)      \n",
        "        test_loss += criterion(y_hat, y)\n",
        "        \n",
        "        y_test.extend(list(y.detach().cpu().numpy()))\n",
        "        y_test_pred.extend(list(torch.argmax(y_hat, axis=1).detach().cpu().numpy()))\n",
        "\n",
        "print('Test Loss =', test_loss.item())\n",
        "plt.imshow(confusion_matrix(y_test, y_test_pred), cmap='Reds')\n",
        "plt.show()"
      ],
      "execution_count": 33,
      "outputs": [
        {
          "output_type": "stream",
          "text": [
            "Test Loss = 57528.66796875\n"
          ],
          "name": "stdout"
        },
        {
          "output_type": "display_data",
          "data": {
            "image/png": "[encoded data removed]",
            "text/plain": [
              "<Figure size 432x288 with 1 Axes>"
            ]
          },
          "metadata": {
            "tags": [],
            "needs_background": "light"
          }
        }
      ]
    },
    {
      "cell_type": "code",
      "metadata": {
        "id": "FckLra-d1Ulv",
        "colab_type": "code",
        "colab": {}
      },
      "source": [
        "acc = accuracy_score(y_test, y_test_pred)\n",
        "prec = precision_score(y_test, y_test_pred, average='macro')\n",
        "f1 = f1_score(y_test, y_test_pred, average='macro')\n",
        "\n",
        "print('Test Accuracy =', acc, 'Test Precision =', prec, 'Test F1 =', f1)"
      ],
      "execution_count": null,
      "outputs": []
    }
  ]
}